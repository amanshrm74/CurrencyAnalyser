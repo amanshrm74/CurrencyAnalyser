{
 "cells": [
  {
   "cell_type": "markdown",
   "metadata": {},
   "source": [
    "# ML to predict Bitcoin prices\n",
    "\n",
    "+ Data from: https://coinmarketcap.com/api/\n",
    "+ Adapted from: https://dashee87.github.io/data%20science/deep%20learning/python/another-keras-tutorial-for-neural-network-beginners/\n",
    "+ Adapted from: https://dashee87.github.io/deep%20learning/python/predicting-cryptocurrency-prices-with-deep-learning/\n",
    "+ Adapted from: https://github.com/dashee87/blogScripts/blob/master/Jupyter/2017-11-20-predicting-cryptocurrency-prices-with-deep-learning.ipynb"
   ]
  },
  {
   "cell_type": "markdown",
   "metadata": {},
   "source": [
    "## Acquire and prepare data"
   ]
  },
  {
   "cell_type": "code",
   "execution_count": 1,
   "metadata": {},
   "outputs": [
    {
     "data": {
      "text/html": [
       "<div>\n",
       "<style>\n",
       "    .dataframe thead tr:only-child th {\n",
       "        text-align: right;\n",
       "    }\n",
       "\n",
       "    .dataframe thead th {\n",
       "        text-align: left;\n",
       "    }\n",
       "\n",
       "    .dataframe tbody tr th {\n",
       "        vertical-align: top;\n",
       "    }\n",
       "</style>\n",
       "<table border=\"1\" class=\"dataframe\">\n",
       "  <thead>\n",
       "    <tr style=\"text-align: right;\">\n",
       "      <th></th>\n",
       "      <th>Date</th>\n",
       "      <th>Open</th>\n",
       "      <th>High</th>\n",
       "      <th>Low</th>\n",
       "      <th>Close</th>\n",
       "      <th>Volume</th>\n",
       "      <th>Market Cap</th>\n",
       "    </tr>\n",
       "  </thead>\n",
       "  <tbody>\n",
       "    <tr>\n",
       "      <th>0</th>\n",
       "      <td>2018-04-15</td>\n",
       "      <td>7999.33</td>\n",
       "      <td>8338.42</td>\n",
       "      <td>7999.33</td>\n",
       "      <td>8329.11</td>\n",
       "      <td>5244480000</td>\n",
       "      <td>135812000000</td>\n",
       "    </tr>\n",
       "    <tr>\n",
       "      <th>1</th>\n",
       "      <td>2018-04-14</td>\n",
       "      <td>7874.67</td>\n",
       "      <td>8140.71</td>\n",
       "      <td>7846.00</td>\n",
       "      <td>7986.24</td>\n",
       "      <td>5191430000</td>\n",
       "      <td>133682000000</td>\n",
       "    </tr>\n",
       "    <tr>\n",
       "      <th>2</th>\n",
       "      <td>2018-04-13</td>\n",
       "      <td>7901.09</td>\n",
       "      <td>8183.96</td>\n",
       "      <td>7758.93</td>\n",
       "      <td>7895.96</td>\n",
       "      <td>7764460000</td>\n",
       "      <td>134114000000</td>\n",
       "    </tr>\n",
       "    <tr>\n",
       "      <th>3</th>\n",
       "      <td>2018-04-12</td>\n",
       "      <td>6955.38</td>\n",
       "      <td>7899.23</td>\n",
       "      <td>6806.51</td>\n",
       "      <td>7889.25</td>\n",
       "      <td>8906250000</td>\n",
       "      <td>118048000000</td>\n",
       "    </tr>\n",
       "    <tr>\n",
       "      <th>4</th>\n",
       "      <td>2018-04-11</td>\n",
       "      <td>6843.47</td>\n",
       "      <td>6968.32</td>\n",
       "      <td>6817.59</td>\n",
       "      <td>6968.32</td>\n",
       "      <td>4641890000</td>\n",
       "      <td>116126000000</td>\n",
       "    </tr>\n",
       "  </tbody>\n",
       "</table>\n",
       "</div>"
      ],
      "text/plain": [
       "        Date     Open     High      Low    Close      Volume    Market Cap\n",
       "0 2018-04-15  7999.33  8338.42  7999.33  8329.11  5244480000  135812000000\n",
       "1 2018-04-14  7874.67  8140.71  7846.00  7986.24  5191430000  133682000000\n",
       "2 2018-04-13  7901.09  8183.96  7758.93  7895.96  7764460000  134114000000\n",
       "3 2018-04-12  6955.38  7899.23  6806.51  7889.25  8906250000  118048000000\n",
       "4 2018-04-11  6843.47  6968.32  6817.59  6968.32  4641890000  116126000000"
      ]
     },
     "execution_count": 1,
     "metadata": {},
     "output_type": "execute_result"
    }
   ],
   "source": [
    "import pandas as pd\n",
    "import time\n",
    "import seaborn as sns\n",
    "import matplotlib.pyplot as plt\n",
    "import datetime\n",
    "import numpy as np\n",
    "\n",
    "# Get bitcoin market info: \"Date\", \"Open\", \"High\", \"Low\", \"Close\", \"Volume\", \"Market Cap\". Starting from 01/01/2016.\n",
    "bitcoin_market_info = pd.read_html(\"https://coinmarketcap.com/currencies/bitcoin/historical-data/?start=20160101&end=\"+time.strftime(\"%Y%m%d\"))[0]\n",
    "\n",
    "# Convert the date string to the datetime format.\n",
    "bitcoin_market_info = bitcoin_market_info.assign(Date=pd.to_datetime(bitcoin_market_info['Date']))\n",
    "\n",
    "# Convert\"Volume\" to an integer.\n",
    "bitcoin_market_info['Volume'] = bitcoin_market_info['Volume'].astype('int64')\n",
    "\n",
    "# Look at the first few rows.\n",
    "bitcoin_market_info.head()"
   ]
  },
  {
   "cell_type": "code",
   "execution_count": 2,
   "metadata": {},
   "outputs": [],
   "source": [
    "# Rename columns.\n",
    "bitcoin_market_info.columns =[bitcoin_market_info.columns[0]]+['bt_'+i for i in bitcoin_market_info.columns[1:]]"
   ]
  },
  {
   "cell_type": "code",
   "execution_count": 3,
   "metadata": {},
   "outputs": [
    {
     "data": {
      "text/html": [
       "<div>\n",
       "<style>\n",
       "    .dataframe thead tr:only-child th {\n",
       "        text-align: right;\n",
       "    }\n",
       "\n",
       "    .dataframe thead th {\n",
       "        text-align: left;\n",
       "    }\n",
       "\n",
       "    .dataframe tbody tr th {\n",
       "        vertical-align: top;\n",
       "    }\n",
       "</style>\n",
       "<table border=\"1\" class=\"dataframe\">\n",
       "  <thead>\n",
       "    <tr style=\"text-align: right;\">\n",
       "      <th></th>\n",
       "      <th>Date</th>\n",
       "      <th>bt_Open</th>\n",
       "      <th>bt_High</th>\n",
       "      <th>bt_Low</th>\n",
       "      <th>bt_Close</th>\n",
       "      <th>bt_Volume</th>\n",
       "      <th>bt_Market Cap</th>\n",
       "      <th>bt_close_off_high</th>\n",
       "      <th>bt_volatility</th>\n",
       "    </tr>\n",
       "  </thead>\n",
       "  <tbody>\n",
       "    <tr>\n",
       "      <th>0</th>\n",
       "      <td>2018-04-15</td>\n",
       "      <td>7999.33</td>\n",
       "      <td>8338.42</td>\n",
       "      <td>7999.33</td>\n",
       "      <td>8329.11</td>\n",
       "      <td>5244480000</td>\n",
       "      <td>135812000000</td>\n",
       "      <td>-0.945088</td>\n",
       "      <td>0.042390</td>\n",
       "    </tr>\n",
       "    <tr>\n",
       "      <th>1</th>\n",
       "      <td>2018-04-14</td>\n",
       "      <td>7874.67</td>\n",
       "      <td>8140.71</td>\n",
       "      <td>7846.00</td>\n",
       "      <td>7986.24</td>\n",
       "      <td>5191430000</td>\n",
       "      <td>133682000000</td>\n",
       "      <td>0.048285</td>\n",
       "      <td>0.037425</td>\n",
       "    </tr>\n",
       "    <tr>\n",
       "      <th>2</th>\n",
       "      <td>2018-04-13</td>\n",
       "      <td>7901.09</td>\n",
       "      <td>8183.96</td>\n",
       "      <td>7758.93</td>\n",
       "      <td>7895.96</td>\n",
       "      <td>7764460000</td>\n",
       "      <td>134114000000</td>\n",
       "      <td>0.355198</td>\n",
       "      <td>0.053794</td>\n",
       "    </tr>\n",
       "    <tr>\n",
       "      <th>3</th>\n",
       "      <td>2018-04-12</td>\n",
       "      <td>6955.38</td>\n",
       "      <td>7899.23</td>\n",
       "      <td>6806.51</td>\n",
       "      <td>7889.25</td>\n",
       "      <td>8906250000</td>\n",
       "      <td>118048000000</td>\n",
       "      <td>-0.981734</td>\n",
       "      <td>0.157104</td>\n",
       "    </tr>\n",
       "    <tr>\n",
       "      <th>4</th>\n",
       "      <td>2018-04-11</td>\n",
       "      <td>6843.47</td>\n",
       "      <td>6968.32</td>\n",
       "      <td>6817.59</td>\n",
       "      <td>6968.32</td>\n",
       "      <td>4641890000</td>\n",
       "      <td>116126000000</td>\n",
       "      <td>-1.000000</td>\n",
       "      <td>0.022025</td>\n",
       "    </tr>\n",
       "  </tbody>\n",
       "</table>\n",
       "</div>"
      ],
      "text/plain": [
       "        Date  bt_Open  bt_High   bt_Low  bt_Close   bt_Volume  bt_Market Cap  \\\n",
       "0 2018-04-15  7999.33  8338.42  7999.33   8329.11  5244480000   135812000000   \n",
       "1 2018-04-14  7874.67  8140.71  7846.00   7986.24  5191430000   133682000000   \n",
       "2 2018-04-13  7901.09  8183.96  7758.93   7895.96  7764460000   134114000000   \n",
       "3 2018-04-12  6955.38  7899.23  6806.51   7889.25  8906250000   118048000000   \n",
       "4 2018-04-11  6843.47  6968.32  6817.59   6968.32  4641890000   116126000000   \n",
       "\n",
       "   bt_close_off_high  bt_volatility  \n",
       "0          -0.945088       0.042390  \n",
       "1           0.048285       0.037425  \n",
       "2           0.355198       0.053794  \n",
       "3          -0.981734       0.157104  \n",
       "4          -1.000000       0.022025  "
      ]
     },
     "execution_count": 3,
     "metadata": {},
     "output_type": "execute_result"
    }
   ],
   "source": [
    "# Create \"close off high\" and \"volatility\" columns.\n",
    "# The \"close off high\" attribute calculates the gap between the closing price and price high.\n",
    "# The \"volatility\" attribute calculated by the high and low price divided by the opening price.\n",
    "for coins in ['bt_']: \n",
    "    kwargs = { coins+'close_off_high': lambda x: 2*(x[coins+'High']- x[coins+'Close'])/(x[coins+'High']-x[coins+'Low'])-1,\n",
    "            coins+'volatility': lambda x: (x[coins+'High']- x[coins+'Low'])/(x[coins+'Open'])}\n",
    "    bitcoin_market_info = bitcoin_market_info.assign(**kwargs)\n",
    "bitcoin_market_info.head()"
   ]
  },
  {
   "cell_type": "code",
   "execution_count": 4,
   "metadata": {},
   "outputs": [
    {
     "data": {
      "text/html": [
       "<div>\n",
       "<style>\n",
       "    .dataframe thead tr:only-child th {\n",
       "        text-align: right;\n",
       "    }\n",
       "\n",
       "    .dataframe thead th {\n",
       "        text-align: left;\n",
       "    }\n",
       "\n",
       "    .dataframe tbody tr th {\n",
       "        vertical-align: top;\n",
       "    }\n",
       "</style>\n",
       "<table border=\"1\" class=\"dataframe\">\n",
       "  <thead>\n",
       "    <tr style=\"text-align: right;\">\n",
       "      <th></th>\n",
       "      <th>Date</th>\n",
       "      <th>bt_Close</th>\n",
       "      <th>bt_Volume</th>\n",
       "      <th>bt_close_off_high</th>\n",
       "      <th>bt_volatility</th>\n",
       "    </tr>\n",
       "  </thead>\n",
       "  <tbody>\n",
       "    <tr>\n",
       "      <th>835</th>\n",
       "      <td>2016-01-01</td>\n",
       "      <td>434.33</td>\n",
       "      <td>36278900</td>\n",
       "      <td>-0.560641</td>\n",
       "      <td>0.020292</td>\n",
       "    </tr>\n",
       "    <tr>\n",
       "      <th>834</th>\n",
       "      <td>2016-01-02</td>\n",
       "      <td>433.44</td>\n",
       "      <td>30096600</td>\n",
       "      <td>0.250597</td>\n",
       "      <td>0.009641</td>\n",
       "    </tr>\n",
       "    <tr>\n",
       "      <th>833</th>\n",
       "      <td>2016-01-03</td>\n",
       "      <td>430.01</td>\n",
       "      <td>39633800</td>\n",
       "      <td>-0.173865</td>\n",
       "      <td>0.020827</td>\n",
       "    </tr>\n",
       "    <tr>\n",
       "      <th>832</th>\n",
       "      <td>2016-01-04</td>\n",
       "      <td>433.09</td>\n",
       "      <td>38477500</td>\n",
       "      <td>-0.474265</td>\n",
       "      <td>0.012649</td>\n",
       "    </tr>\n",
       "    <tr>\n",
       "      <th>831</th>\n",
       "      <td>2016-01-05</td>\n",
       "      <td>431.96</td>\n",
       "      <td>34522600</td>\n",
       "      <td>-0.013333</td>\n",
       "      <td>0.010391</td>\n",
       "    </tr>\n",
       "  </tbody>\n",
       "</table>\n",
       "</div>"
      ],
      "text/plain": [
       "          Date  bt_Close  bt_Volume  bt_close_off_high  bt_volatility\n",
       "835 2016-01-01    434.33   36278900          -0.560641       0.020292\n",
       "834 2016-01-02    433.44   30096600           0.250597       0.009641\n",
       "833 2016-01-03    430.01   39633800          -0.173865       0.020827\n",
       "832 2016-01-04    433.09   38477500          -0.474265       0.012649\n",
       "831 2016-01-05    431.96   34522600          -0.013333       0.010391"
      ]
     },
     "execution_count": 4,
     "metadata": {},
     "output_type": "execute_result"
    }
   ],
   "source": [
    "# Remove columns \"Open\", \"High\", \"Low\", \"Market Cap\".\n",
    "model_data = bitcoin_market_info[['Date']+[coin+metric for coin in ['bt_'] \n",
    "                                   for metric in ['Close','Volume','close_off_high','volatility']]]\n",
    "# Reverse the data frame so that the row represent the right time frame.\n",
    "model_data = model_data.sort_values(by='Date')\n",
    "model_data.head()"
   ]
  },
  {
   "cell_type": "code",
   "execution_count": 5,
   "metadata": {},
   "outputs": [],
   "source": [
    "# Split the data into training and test sets. \n",
    "split_date = '2017-06-01'\n",
    "training_set, test_set = model_data[model_data['Date']<split_date], model_data[model_data['Date']>=split_date]\n",
    "\n",
    "# Remove \"Date\" columns. We are now finished with them.\n",
    "training_set = training_set.drop('Date', 1)\n",
    "test_set = test_set.drop('Date', 1)"
   ]
  },
  {
   "cell_type": "code",
   "execution_count": 6,
   "metadata": {
    "collapsed": true
   },
   "outputs": [],
   "source": [
    "# We only want the window length to be one day.\n",
    "window_len = 1\n",
    "norm_cols = [coin+metric for coin in ['bt_'] for metric in ['Close','Volume']]"
   ]
  },
  {
   "cell_type": "code",
   "execution_count": 7,
   "metadata": {},
   "outputs": [],
   "source": [
    "# Prepare training inputs.\n",
    "LSTM_training_inputs = []\n",
    "for i in range(len(training_set)-window_len):\n",
    "    temp_set = training_set[i:(i+window_len)].copy()\n",
    "    for col in norm_cols:\n",
    "        temp_set.loc[:, col] = temp_set[col]/temp_set[col].iloc[0] - 1\n",
    "    LSTM_training_inputs.append(temp_set)"
   ]
  },
  {
   "cell_type": "code",
   "execution_count": 8,
   "metadata": {
    "collapsed": true
   },
   "outputs": [],
   "source": [
    "# Prepare test inputs.\n",
    "LSTM_test_inputs = []\n",
    "for i in range(len(test_set)-window_len):\n",
    "    temp_set = test_set[i:(i+window_len)].copy()\n",
    "    for col in norm_cols:\n",
    "        temp_set.loc[:, col] = temp_set[col]/temp_set[col].iloc[0] - 1\n",
    "    LSTM_test_inputs.append(temp_set)"
   ]
  },
  {
   "cell_type": "code",
   "execution_count": 9,
   "metadata": {},
   "outputs": [],
   "source": [
    "# Convert to numpy arrays.\n",
    "LSTM_training_inputs = [np.array(LSTM_training_input) for LSTM_training_input in LSTM_training_inputs]\n",
    "LSTM_training_inputs = np.array(LSTM_training_inputs)\n",
    "\n",
    "LSTM_test_inputs = [np.array(LSTM_test_inputs) for LSTM_test_inputs in LSTM_test_inputs]\n",
    "LSTM_test_inputs = np.array(LSTM_test_inputs)"
   ]
  },
  {
   "cell_type": "markdown",
   "metadata": {},
   "source": [
    "## Build model"
   ]
  },
  {
   "cell_type": "code",
   "execution_count": 10,
   "metadata": {},
   "outputs": [
    {
     "ename": "SyntaxError",
     "evalue": "invalid syntax (<ipython-input-10-f31b4a2955f0>, line 29)",
     "output_type": "error",
     "traceback": [
      "\u001b[1;36m  File \u001b[1;32m\"<ipython-input-10-f31b4a2955f0>\"\u001b[1;36m, line \u001b[1;32m29\u001b[0m\n\u001b[1;33m    model.add(Dense(units output_size))\u001b[0m\n\u001b[1;37m                                    ^\u001b[0m\n\u001b[1;31mSyntaxError\u001b[0m\u001b[1;31m:\u001b[0m invalid syntax\n"
     ]
    }
   ],
   "source": [
    "from keras.models import Sequential\n",
    "from keras.layers import Activation, Dense\n",
    "from keras.layers import LSTM\n",
    "from keras.layers import Dropout\n",
    "\n",
    "def build_model(inputs, output_size, neurons, activ_func=\"linear\",\n",
    "                dropout=0.25, loss=\"mae\", optimizer=\"adam\"):\n",
    "    model = Sequential()\n",
    "    '''\n",
    "    Use LSTM(Long Short Term Memory) an efficient, gradient-based Model introduced by Hochreiter & Schmidhuber in 1997\n",
    "    [ Ref: http://www.bioinf.jku.at/publications/older/2604.pdf ]. \n",
    "    \n",
    "    Recurrent Neural Networks attempt to address memory issues in traditional by adding loops within them, allowing \n",
    "    information to persist [ Ref: http://colah.github.io/posts/2015-08-Understanding-LSTMs/ ]. A resonable analogy, is \n",
    "    to envision recurrent neural network as numerous copies of the same network, each passing a message to a parent. \n",
    "    This chain-like nature resembles the behaviour of sequences and lists, making them naturally suited to the \n",
    "    architecture of a neural network. Unfortunately, RNNs are burdened with the problem of hadling long-term dependencies. \n",
    "    As the neural network grows, gaps between past relevant data grows, and the RNN model becomes unable to learn to \n",
    "    connect the information.\n",
    "    \n",
    "    In theory, RNNs are absolutely capable of handling this issue. In fact, some are. Long Short Term Memory is an extension \n",
    "    of or type of RNN that is capable. LSTM is very efficient on a large variety of problems, including timeline data \n",
    "    [ Ref: https://dashee87.github.io/deep%20learning/python/predicting-cryptocurrency-prices-with-deep-learning/ ], \n",
    "    and are now widely used. LSTMs have another loop learning what data to forget and what data to remember. LSTM models \n",
    "    still have this chain like structure, but with four different layers communicating in a certain way.\n",
    "    ''' \n",
    "    model.add(LSTM(neurons, input_shape=(inputs.shape[1], inputs.shape[2])))\n",
    "    model.add(Dropout(dropout))\n",
    "    model.add(Dense(units=output_size))\n",
    "    model.add(Activation(activ_func))\n",
    "\n",
    "    model.compile(loss=loss, optimizer=optimizer, metrics=['accuracy'])\n",
    "    return model"
   ]
  },
  {
   "cell_type": "markdown",
   "metadata": {},
   "source": [
    "## Train model"
   ]
  },
  {
   "cell_type": "code",
   "execution_count": null,
   "metadata": {},
   "outputs": [],
   "source": [
    "# Random seed for reproducibility.\n",
    "np.random.seed(202)\n",
    "\n",
    "# Attempt to predict the closing price for the next day.\n",
    "# Change this value if you want to make longer/shorter prediction, i.e. number of days.\n",
    "pred_range = 1\n",
    "\n",
    "# Initialise model architecture.\n",
    "bt_model = build_model(LSTM_training_inputs, output_size=pred_range, neurons = 20)\n",
    "\n",
    "# Model output is next price.\n",
    "LSTM_training_outputs = []\n",
    "for i in range(window_len, len(training_set['bt_Close'])-pred_range):\n",
    "    LSTM_training_outputs.append((training_set['bt_Close'][i:i+pred_range].values/\n",
    "                                  training_set['bt_Close'].values[i-window_len])-1)\n",
    "LSTM_training_outputs = np.array(LSTM_training_outputs)\n",
    "\n",
    "# Train model with training set.\n",
    "bt_history = bt_model.fit(LSTM_training_inputs[:-pred_range], LSTM_training_outputs, \n",
    "                            epochs=50, batch_size=1, verbose=2, shuffle=True)"
   ]
  },
  {
   "cell_type": "markdown",
   "metadata": {},
   "source": [
    "## Test Model"
   ]
  },
  {
   "cell_type": "code",
   "execution_count": null,
   "metadata": {},
   "outputs": [],
   "source": [
    "bt_pred_prices = ((bt_model.predict(LSTM_test_inputs)[:-pred_range][::pred_range]+1)*\\\n",
    "                   test_set['bt_Close'].values[:-(window_len + pred_range)][::pred_range].reshape(int(np.ceil((len(LSTM_test_inputs)-pred_range)/float(pred_range))),1))"
   ]
  },
  {
   "cell_type": "code",
   "execution_count": null,
   "metadata": {},
   "outputs": [],
   "source": [
    "bt_pred_prices"
   ]
  },
  {
   "cell_type": "markdown",
   "metadata": {},
   "source": [
    "## Acquire and prepare yesterday's data"
   ]
  },
  {
   "cell_type": "code",
   "execution_count": null,
   "metadata": {},
   "outputs": [],
   "source": [
    "# Get market for yesterday.\n",
    "bitcoin_market_new = pd.read_html(\"https://coinmarketcap.com/currencies/bitcoin/historical-data/?start=20180415&end=20180416\")[0]\n",
    "\n",
    "# Convert the date string to the datetime format.\n",
    "bitcoin_market_new = bitcoin_market_new.assign(Date=pd.to_datetime(bitcoin_market_info['Date']))\n",
    "\n",
    "# Convert \"Volume\" to an integer.\n",
    "bitcoin_market_new['Volume'] = bitcoin_market_new['Volume'].astype('int64')\n",
    "\n",
    "# Rename columns.\n",
    "bitcoin_market_new.columns =[bitcoin_market_new.columns[0]]+['bt_'+i for i in bitcoin_market_new.columns[1:]]\n",
    "\n",
    "# Create \"close off high\" and \"volatility\" columns.\n",
    "# The \"close off high\" attribute calculates the gap between the closing price and price high.\n",
    "# The \"volatility\" attribute calculated by the high and low price divided by the opening price.\n",
    "for coins in ['bt_']: \n",
    "    kwargs = { coins+'close_off_high': lambda x: 2*(x[coins+'High']- x[coins+'Close'])/(x[coins+'High']-x[coins+'Low'])-1,\n",
    "            coins+'volatility': lambda x: (x[coins+'High']- x[coins+'Low'])/(x[coins+'Open'])}\n",
    "    bitcoin_market_new = bitcoin_market_new.assign(**kwargs)\n",
    "\n",
    "# Remove columns \"Open\", \"High\", \"Low\", \"Market Cap\".\n",
    "m_data = bitcoin_market_new[['Date']+[coin+metric for coin in ['bt_'] \n",
    "                                   for metric in ['Close','Volume','close_off_high','volatility']]]\n",
    "\n",
    "# Reverse the data frame so that the row represent the right time frame.\n",
    "m_data = m_data.sort_values(by='Date')\n",
    "m_data.head()\n",
    "\n",
    "# Remove \"Date\" columns. We are now finished with them.\n",
    "predict_set = m_data.drop('Date', 1)\n",
    "\n",
    "window_len = 1\n",
    "norm_cols = [coin+metric for coin in ['bt_'] for metric in ['Close','Volume']]\n",
    "\n",
    "# Prepare test inputs.\n",
    "LSTM_predict_inputs = []\n",
    "for i in range(len(predict_set)):#-window_len):\n",
    "    temp_set = predict_set[i:(i+window_len)].copy()\n",
    "    for col in norm_cols:\n",
    "        temp_set.loc[:, col] = temp_set[col]/temp_set[col].iloc[0] - 1\n",
    "    LSTM_predict_inputs.append(temp_set)\n",
    "\n",
    "# Convert to numpy arrays.\n",
    "LSTM_predict_inputs = [np.array(LSTM_predict_inputs) for LSTM_predict_inputs in LSTM_predict_inputs]\n",
    "LSTM_predict_inputs = np.array(LSTM_predict_inputs)"
   ]
  },
  {
   "cell_type": "markdown",
   "metadata": {},
   "source": [
    "## Predict today's price"
   ]
  },
  {
   "cell_type": "code",
   "execution_count": null,
   "metadata": {},
   "outputs": [],
   "source": [
    "((bt_model.predict(LSTM_predict_inputs)+1)*\\\n",
    "                   predict_set['bt_Close'].values.reshape(1,1))"
   ]
  }
 ],
 "metadata": {
  "kernelspec": {
   "display_name": "Python 3",
   "language": "python",
   "name": "python3"
  },
  "language_info": {
   "codemirror_mode": {
    "name": "ipython",
    "version": 3
   },
   "file_extension": ".py",
   "mimetype": "text/x-python",
   "name": "python",
   "nbconvert_exporter": "python",
   "pygments_lexer": "ipython3",
   "version": "3.6.1"
  }
 },
 "nbformat": 4,
 "nbformat_minor": 2
}
